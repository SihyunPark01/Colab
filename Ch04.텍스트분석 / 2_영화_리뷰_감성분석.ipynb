{
  "nbformat": 4,
  "nbformat_minor": 0,
  "metadata": {
    "colab": {
      "name": "2_영화 리뷰 감성분석.ipynb",
      "provenance": [],
      "collapsed_sections": [],
      "mount_file_id": "1jEyArktkcFYiRrK5f_NZ3mKP-RSkzXiR",
      "authorship_tag": "ABX9TyNcvJ/frCgj1Hg0gl+LEMga",
      "include_colab_link": true
    },
    "kernelspec": {
      "name": "python3",
      "display_name": "Python 3"
    },
    "language_info": {
      "name": "python"
    },
    "accelerator": "GPU"
  },
  "cells": [
    {
      "cell_type": "markdown",
      "metadata": {
        "id": "view-in-github",
        "colab_type": "text"
      },
      "source": [
        "<a href=\"https://colab.research.google.com/github/SihyunPark01/Colab/blob/main/Ch04.%ED%85%8D%EC%8A%A4%ED%8A%B8%EB%B6%84%EC%84%9D%20/%202_%EC%98%81%ED%99%94_%EB%A6%AC%EB%B7%B0_%EA%B0%90%EC%84%B1%EB%B6%84%EC%84%9D.ipynb\" target=\"_parent\"><img src=\"https://colab.research.google.com/assets/colab-badge.svg\" alt=\"Open In Colab\"/></a>"
      ]
    },
    {
      "cell_type": "code",
      "metadata": {
        "colab": {
          "base_uri": "https://localhost:8080/"
        },
        "id": "a3rEJ0qvjSes",
        "outputId": "21f83710-5c8c-48ba-b128-4977a1be9a7b"
      },
      "source": [
        "\"\"\"\n",
        "날짜: 21/11/23\n",
        "이름: 박시현\n",
        "내용: 영화 리뷰 감성분석 실습하기\n",
        "\"\"\"\n",
        "\n",
        "!pip install konlpy"
      ],
      "execution_count": 1,
      "outputs": [
        {
          "output_type": "stream",
          "name": "stdout",
          "text": [
            "Collecting konlpy\n",
            "  Downloading konlpy-0.5.2-py2.py3-none-any.whl (19.4 MB)\n",
            "\u001b[K     |████████████████████████████████| 19.4 MB 44.2 MB/s \n",
            "\u001b[?25hRequirement already satisfied: tweepy>=3.7.0 in /usr/local/lib/python3.7/dist-packages (from konlpy) (3.10.0)\n",
            "Requirement already satisfied: lxml>=4.1.0 in /usr/local/lib/python3.7/dist-packages (from konlpy) (4.2.6)\n",
            "Collecting colorama\n",
            "  Downloading colorama-0.4.4-py2.py3-none-any.whl (16 kB)\n",
            "Collecting beautifulsoup4==4.6.0\n",
            "  Downloading beautifulsoup4-4.6.0-py3-none-any.whl (86 kB)\n",
            "\u001b[K     |████████████████████████████████| 86 kB 3.6 MB/s \n",
            "\u001b[?25hCollecting JPype1>=0.7.0\n",
            "  Downloading JPype1-1.3.0-cp37-cp37m-manylinux_2_5_x86_64.manylinux1_x86_64.whl (448 kB)\n",
            "\u001b[K     |████████████████████████████████| 448 kB 34.3 MB/s \n",
            "\u001b[?25hRequirement already satisfied: numpy>=1.6 in /usr/local/lib/python3.7/dist-packages (from konlpy) (1.19.5)\n",
            "Requirement already satisfied: typing-extensions in /usr/local/lib/python3.7/dist-packages (from JPype1>=0.7.0->konlpy) (3.10.0.2)\n",
            "Requirement already satisfied: requests[socks]>=2.11.1 in /usr/local/lib/python3.7/dist-packages (from tweepy>=3.7.0->konlpy) (2.23.0)\n",
            "Requirement already satisfied: six>=1.10.0 in /usr/local/lib/python3.7/dist-packages (from tweepy>=3.7.0->konlpy) (1.15.0)\n",
            "Requirement already satisfied: requests-oauthlib>=0.7.0 in /usr/local/lib/python3.7/dist-packages (from tweepy>=3.7.0->konlpy) (1.3.0)\n",
            "Requirement already satisfied: oauthlib>=3.0.0 in /usr/local/lib/python3.7/dist-packages (from requests-oauthlib>=0.7.0->tweepy>=3.7.0->konlpy) (3.1.1)\n",
            "Requirement already satisfied: urllib3!=1.25.0,!=1.25.1,<1.26,>=1.21.1 in /usr/local/lib/python3.7/dist-packages (from requests[socks]>=2.11.1->tweepy>=3.7.0->konlpy) (1.24.3)\n",
            "Requirement already satisfied: idna<3,>=2.5 in /usr/local/lib/python3.7/dist-packages (from requests[socks]>=2.11.1->tweepy>=3.7.0->konlpy) (2.10)\n",
            "Requirement already satisfied: chardet<4,>=3.0.2 in /usr/local/lib/python3.7/dist-packages (from requests[socks]>=2.11.1->tweepy>=3.7.0->konlpy) (3.0.4)\n",
            "Requirement already satisfied: certifi>=2017.4.17 in /usr/local/lib/python3.7/dist-packages (from requests[socks]>=2.11.1->tweepy>=3.7.0->konlpy) (2021.10.8)\n",
            "Requirement already satisfied: PySocks!=1.5.7,>=1.5.6 in /usr/local/lib/python3.7/dist-packages (from requests[socks]>=2.11.1->tweepy>=3.7.0->konlpy) (1.7.1)\n",
            "Installing collected packages: JPype1, colorama, beautifulsoup4, konlpy\n",
            "  Attempting uninstall: beautifulsoup4\n",
            "    Found existing installation: beautifulsoup4 4.6.3\n",
            "    Uninstalling beautifulsoup4-4.6.3:\n",
            "      Successfully uninstalled beautifulsoup4-4.6.3\n",
            "Successfully installed JPype1-1.3.0 beautifulsoup4-4.6.0 colorama-0.4.4 konlpy-0.5.2\n"
          ]
        }
      ]
    },
    {
      "cell_type": "code",
      "metadata": {
        "id": "mxH3ugjPjgyb"
      },
      "source": [
        "import pickle, re\n",
        "import numpy as np\n",
        "import pandas as pd\n",
        "from konlpy.tag import Okt\n",
        "from tensorflow.keras.models import Sequential, load_model\n",
        "from tensorflow.keras.preprocessing.text import Tokenizer\n",
        "from tensorflow.keras.layers import Dense, Activation, Dropout, Embedding, LSTM\n",
        "from keras.preprocessing.sequence import pad_sequences\n"
      ],
      "execution_count": 2,
      "outputs": []
    },
    {
      "cell_type": "code",
      "metadata": {
        "colab": {
          "base_uri": "https://localhost:8080/",
          "height": 424
        },
        "id": "IoHigv8skC81",
        "outputId": "59fc41c7-7eab-41b9-c2bf-4e3648374b60"
      },
      "source": [
        "# 데이터 불러오기\n",
        "train_data = pd.read_table('/content/drive/MyDrive/Colab Notebooks/file/movie_review_train.txt')\n",
        "test_data = pd.read_table('/content/drive/MyDrive/Colab Notebooks/file/movie_review_test.txt')\n",
        "train_data"
      ],
      "execution_count": 11,
      "outputs": [
        {
          "output_type": "execute_result",
          "data": {
            "text/html": [
              "<div>\n",
              "<style scoped>\n",
              "    .dataframe tbody tr th:only-of-type {\n",
              "        vertical-align: middle;\n",
              "    }\n",
              "\n",
              "    .dataframe tbody tr th {\n",
              "        vertical-align: top;\n",
              "    }\n",
              "\n",
              "    .dataframe thead th {\n",
              "        text-align: right;\n",
              "    }\n",
              "</style>\n",
              "<table border=\"1\" class=\"dataframe\">\n",
              "  <thead>\n",
              "    <tr style=\"text-align: right;\">\n",
              "      <th></th>\n",
              "      <th>id</th>\n",
              "      <th>document</th>\n",
              "      <th>label</th>\n",
              "    </tr>\n",
              "  </thead>\n",
              "  <tbody>\n",
              "    <tr>\n",
              "      <th>0</th>\n",
              "      <td>9976970</td>\n",
              "      <td>아 더빙.. 진짜 짜증나네요 목소리</td>\n",
              "      <td>0</td>\n",
              "    </tr>\n",
              "    <tr>\n",
              "      <th>1</th>\n",
              "      <td>3819312</td>\n",
              "      <td>흠...포스터보고 초딩영화줄....오버연기조차 가볍지 않구나</td>\n",
              "      <td>1</td>\n",
              "    </tr>\n",
              "    <tr>\n",
              "      <th>2</th>\n",
              "      <td>10265843</td>\n",
              "      <td>너무재밓었다그래서보는것을추천한다</td>\n",
              "      <td>0</td>\n",
              "    </tr>\n",
              "    <tr>\n",
              "      <th>3</th>\n",
              "      <td>9045019</td>\n",
              "      <td>교도소 이야기구먼 ..솔직히 재미는 없다..평점 조정</td>\n",
              "      <td>0</td>\n",
              "    </tr>\n",
              "    <tr>\n",
              "      <th>4</th>\n",
              "      <td>6483659</td>\n",
              "      <td>사이몬페그의 익살스런 연기가 돋보였던 영화!스파이더맨에서 늙어보이기만 했던 커스틴 ...</td>\n",
              "      <td>1</td>\n",
              "    </tr>\n",
              "    <tr>\n",
              "      <th>...</th>\n",
              "      <td>...</td>\n",
              "      <td>...</td>\n",
              "      <td>...</td>\n",
              "    </tr>\n",
              "    <tr>\n",
              "      <th>149995</th>\n",
              "      <td>6222902</td>\n",
              "      <td>인간이 문제지.. 소는 뭔죄인가..</td>\n",
              "      <td>0</td>\n",
              "    </tr>\n",
              "    <tr>\n",
              "      <th>149996</th>\n",
              "      <td>8549745</td>\n",
              "      <td>평점이 너무 낮아서...</td>\n",
              "      <td>1</td>\n",
              "    </tr>\n",
              "    <tr>\n",
              "      <th>149997</th>\n",
              "      <td>9311800</td>\n",
              "      <td>이게 뭐요? 한국인은 거들먹거리고 필리핀 혼혈은 착하다?</td>\n",
              "      <td>0</td>\n",
              "    </tr>\n",
              "    <tr>\n",
              "      <th>149998</th>\n",
              "      <td>2376369</td>\n",
              "      <td>청춘 영화의 최고봉.방황과 우울했던 날들의 자화상</td>\n",
              "      <td>1</td>\n",
              "    </tr>\n",
              "    <tr>\n",
              "      <th>149999</th>\n",
              "      <td>9619869</td>\n",
              "      <td>한국 영화 최초의 아카데미 수상작!</td>\n",
              "      <td>1</td>\n",
              "    </tr>\n",
              "  </tbody>\n",
              "</table>\n",
              "<p>150000 rows × 3 columns</p>\n",
              "</div>"
            ],
            "text/plain": [
              "              id                                           document  label\n",
              "0        9976970                                아 더빙.. 진짜 짜증나네요 목소리      0\n",
              "1        3819312                  흠...포스터보고 초딩영화줄....오버연기조차 가볍지 않구나      1\n",
              "2       10265843                                  너무재밓었다그래서보는것을추천한다      0\n",
              "3        9045019                      교도소 이야기구먼 ..솔직히 재미는 없다..평점 조정      0\n",
              "4        6483659  사이몬페그의 익살스런 연기가 돋보였던 영화!스파이더맨에서 늙어보이기만 했던 커스틴 ...      1\n",
              "...          ...                                                ...    ...\n",
              "149995   6222902                                인간이 문제지.. 소는 뭔죄인가..      0\n",
              "149996   8549745                                      평점이 너무 낮아서...      1\n",
              "149997   9311800                    이게 뭐요? 한국인은 거들먹거리고 필리핀 혼혈은 착하다?      0\n",
              "149998   2376369                        청춘 영화의 최고봉.방황과 우울했던 날들의 자화상      1\n",
              "149999   9619869                                한국 영화 최초의 아카데미 수상작!      1\n",
              "\n",
              "[150000 rows x 3 columns]"
            ]
          },
          "metadata": {},
          "execution_count": 11
        }
      ]
    },
    {
      "cell_type": "code",
      "metadata": {
        "id": "AY0giGNkkPxl"
      },
      "source": [
        "# 전처리 함수 정의\n",
        "\n",
        "okt = Okt()\n",
        "stop_words = ['은', '는', '을', '를', '의', '이', '가', '에게', '하', '것', '들', '에서', '있', '되', '등', '한']\n",
        "\n",
        "def preprocessing(text):\n",
        "  # 한글 텍스트 아닌 것 제외시키기\n",
        "  review_text = re.sub('[^가-힣ㄱ-ㅎㅏ-ㅣ\\\\s]','',str(text))\n",
        "\n",
        "  # 문장 형태소 분석\n",
        "  review_text = okt.morphs(review_text, stem=True)\n",
        "\n",
        "  # 불용어(을/를/의...) 제거\n",
        "  word_review = [w for w in review_text if not w in stop_words]\n",
        "\n",
        "  return word_review\n",
        "\n",
        "\n",
        "\n",
        "clean_train_review = []\n",
        "clean_test_review = []\n",
        "\n",
        "# 훈련 데이터 전처리\n",
        "for review in train_data['document']:\n",
        "  clean_train_review.append(preprocessing(review))\n",
        "\n",
        "# 검증 데이터 전처리\n",
        "for review in test_data['document']:\n",
        "  clean_test_review.append(preprocessing(review))\n",
        "\n",
        "\n",
        "  clean_train_review[:5]"
      ],
      "execution_count": 14,
      "outputs": []
    },
    {
      "cell_type": "markdown",
      "metadata": {
        "id": "kBLliGSFntRD"
      },
      "source": [
        "### 전처리 함수 정의 : 15만개의 데이터를 정제하는 작업"
      ]
    },
    {
      "cell_type": "code",
      "metadata": {
        "id": "HbZpdA29kQk-"
      },
      "source": [
        "# 토큰화\n",
        "tokenizer = Tokenizer()\n",
        "tokenizer.fit_on_texts(clean_train_review)\n",
        "train_sequences = tokenizer.texts_to_sequences(clean_train_review)\n",
        "test_sequences = tokenizer.texts_to_sequences(clean_test_review)\n",
        "\n",
        "word_dic = tokenizer.word_index\n",
        "word_dic\n"
      ],
      "execution_count": null,
      "outputs": []
    },
    {
      "cell_type": "code",
      "metadata": {
        "colab": {
          "base_uri": "https://localhost:8080/"
        },
        "id": "t7upGuyskT8N",
        "outputId": "db25d0f9-5f95-42c0-dd55-b1f3c502c335"
      },
      "source": [
        "# 패딩 처리\n",
        "train_inputs = pad_sequences(train_sequences, maxlen=10, padding = 'post') #댓글이 가장 많은 길이가 10글자\n",
        "test_inputs = pad_sequences(test_sequences, maxlen=10, padding = 'post')\n",
        "\n",
        "train_labels = np.array(train_data['label'])\n",
        "test_labels = np.array(test_data['label'])  #라벨의 결과값은 0 또는 1\n",
        "\n",
        "print(train_inputs[0])\n",
        "print(train_labels[0])"
      ],
      "execution_count": 16,
      "outputs": [
        {
          "output_type": "stream",
          "name": "stdout",
          "text": [
            "[ 53 462  18 263 664   0   0   0   0   0]\n",
            "0\n"
          ]
        }
      ]
    },
    {
      "cell_type": "code",
      "metadata": {
        "colab": {
          "base_uri": "https://localhost:8080/"
        },
        "id": "176Hxj6dkVFk",
        "outputId": "5b130848-df70-4c0c-f769-e923313d5db6"
      },
      "source": [
        "# 모델 생성\n",
        "model = Sequential()\n",
        "\n",
        "model.add(Embedding(30000, 10)) \n",
        "model.add(LSTM(128)) #RNN모델에서 장기기억을 위한 순환모델 LSTM 하나 더 추가\n",
        "model.add(Dense(1, activation='sigmoid')) #0~1사이의 결과값을 출력\n",
        "model.summary()\n",
        "\n",
        "\n"
      ],
      "execution_count": 18,
      "outputs": [
        {
          "output_type": "stream",
          "name": "stdout",
          "text": [
            "Model: \"sequential_1\"\n",
            "_________________________________________________________________\n",
            " Layer (type)                Output Shape              Param #   \n",
            "=================================================================\n",
            " embedding_1 (Embedding)     (None, None, 10)          300000    \n",
            "                                                                 \n",
            " lstm_1 (LSTM)               (None, 128)               71168     \n",
            "                                                                 \n",
            " dense (Dense)               (None, 1)                 129       \n",
            "                                                                 \n",
            "=================================================================\n",
            "Total params: 371,297\n",
            "Trainable params: 371,297\n",
            "Non-trainable params: 0\n",
            "_________________________________________________________________\n"
          ]
        }
      ]
    },
    {
      "cell_type": "code",
      "metadata": {
        "id": "kr8MJIY7kWQG"
      },
      "source": [
        "# 모델 설정 \n",
        "\n",
        "model.compile(loss='binary_crossentropy',\n",
        "              optimizer='adam',\n",
        "              metrics=['acc'])"
      ],
      "execution_count": 19,
      "outputs": []
    },
    {
      "cell_type": "code",
      "metadata": {
        "colab": {
          "base_uri": "https://localhost:8080/"
        },
        "id": "pt6-789RkXn8",
        "outputId": "bfbbba44-a46d-425d-8f4f-54e4b128ce73"
      },
      "source": [
        "# 모델 학습\n",
        "\n",
        "model.fit(train_inputs,\n",
        "          train_labels,\n",
        "          epochs=10,\n",
        "          batch_size=128,\n",
        "          validation_split=0.2)"
      ],
      "execution_count": 20,
      "outputs": [
        {
          "output_type": "stream",
          "name": "stdout",
          "text": [
            "Epoch 1/10\n",
            "938/938 [==============================] - 19s 12ms/step - loss: 0.4362 - acc: 0.7916 - val_loss: 0.3883 - val_acc: 0.8293\n",
            "Epoch 2/10\n",
            "938/938 [==============================] - 10s 10ms/step - loss: 0.3486 - acc: 0.8468 - val_loss: 0.3913 - val_acc: 0.8261\n",
            "Epoch 3/10\n",
            "938/938 [==============================] - 9s 10ms/step - loss: 0.3210 - acc: 0.8616 - val_loss: 0.4022 - val_acc: 0.8262\n",
            "Epoch 4/10\n",
            "938/938 [==============================] - 10s 10ms/step - loss: 0.2982 - acc: 0.8724 - val_loss: 0.3957 - val_acc: 0.8265\n",
            "Epoch 5/10\n",
            "938/938 [==============================] - 9s 10ms/step - loss: 0.2730 - acc: 0.8834 - val_loss: 0.4071 - val_acc: 0.8249\n",
            "Epoch 6/10\n",
            "938/938 [==============================] - 10s 10ms/step - loss: 0.2465 - acc: 0.8951 - val_loss: 0.4412 - val_acc: 0.8221\n",
            "Epoch 7/10\n",
            "938/938 [==============================] - 10s 10ms/step - loss: 0.2213 - acc: 0.9065 - val_loss: 0.5049 - val_acc: 0.8197\n",
            "Epoch 8/10\n",
            "938/938 [==============================] - 10s 10ms/step - loss: 0.2003 - acc: 0.9160 - val_loss: 0.5256 - val_acc: 0.8157\n",
            "Epoch 9/10\n",
            "938/938 [==============================] - 9s 10ms/step - loss: 0.1826 - acc: 0.9243 - val_loss: 0.6186 - val_acc: 0.8137\n",
            "Epoch 10/10\n",
            "938/938 [==============================] - 10s 10ms/step - loss: 0.1684 - acc: 0.9288 - val_loss: 0.6104 - val_acc: 0.8144\n"
          ]
        },
        {
          "output_type": "execute_result",
          "data": {
            "text/plain": [
              "<keras.callbacks.History at 0x7f66a033c390>"
            ]
          },
          "metadata": {},
          "execution_count": 20
        }
      ]
    },
    {
      "cell_type": "code",
      "metadata": {
        "colab": {
          "base_uri": "https://localhost:8080/"
        },
        "id": "X7sFKE6GkYmG",
        "outputId": "ada42dec-1893-4e80-cf06-a409c7b09f09"
      },
      "source": [
        "# 모델 평가\n",
        "\n",
        "result = model.evaluate(test_inputs, test_labels)"
      ],
      "execution_count": 21,
      "outputs": [
        {
          "output_type": "stream",
          "name": "stdout",
          "text": [
            "1563/1563 [==============================] - 6s 4ms/step - loss: 0.6074 - acc: 0.8128\n"
          ]
        }
      ]
    },
    {
      "cell_type": "code",
      "metadata": {
        "id": "TekG5tj5keJ9"
      },
      "source": [
        "# 테스트\n",
        "def sentiment_predict(text):\n",
        "  # 한글 텍스트 아닌 것 제외시키기\n",
        "  review_text = re.sub('[^가-힣ㄱ-ㅎㅏ-ㅣ\\\\s]','',str(text))\n",
        "\n",
        "  # 문장 형태소 분석\n",
        "  review_text = okt.morphs(review_text, stem=True)\n",
        "\n",
        "  # 불용어(을/를/의...) 제거\n",
        "  word_review = [w for w in review_text if not w in stop_words]\n",
        "\n",
        "  encoded = tokenizer.texts_to_sequences([word_review])  #문장을 수치화\n",
        "  padded = pad_sequences(encoded, maxlen=10, padding='post') #패딩값을 채우고\n",
        "\n",
        "\n",
        "  score = float(model.predict(padded)) #0~1사이의 값으로 리턴\n",
        "  return score"
      ],
      "execution_count": 23,
      "outputs": []
    },
    {
      "cell_type": "code",
      "metadata": {
        "id": "TKxIjygtv3yh"
      },
      "source": [
        "while True:\n",
        "  review = input('리뷰 입력 :')\n",
        "  score = sentiment_predict(review)\n",
        "\n",
        "  if score > 0.5:\n",
        "    print('{:.2f}% 확률로 긍정 리뷰입니다.\\n'.format(score * 100))\n",
        "  else:\n",
        "    print('{:.2f}% 확률로 부정 리뷰입니다.\\n'.format((1-score) * 100))"
      ],
      "execution_count": null,
      "outputs": []
    },
    {
      "cell_type": "code",
      "metadata": {
        "id": "BdL3-rI6wRfZ"
      },
      "source": [
        ""
      ],
      "execution_count": null,
      "outputs": []
    }
  ]
}