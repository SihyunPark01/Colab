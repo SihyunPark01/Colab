{
  "nbformat": 4,
  "nbformat_minor": 0,
  "metadata": {
    "colab": {
      "name": "9_결정트리 실습.ipynb",
      "provenance": [],
      "collapsed_sections": [],
      "mount_file_id": "1Jgp9PnjcN5-9HcTDrel0H4pm3gu0MVep",
      "authorship_tag": "ABX9TyNGLk8Nto9ITmaHh90LTEco",
      "include_colab_link": true
    },
    "kernelspec": {
      "name": "python3",
      "display_name": "Python 3"
    },
    "language_info": {
      "name": "python"
    }
  },
  "cells": [
    {
      "cell_type": "markdown",
      "metadata": {
        "id": "view-in-github",
        "colab_type": "text"
      },
      "source": [
        "<a href=\"https://colab.research.google.com/github/SihyunPark01/Colab/blob/main/Ch02.%EB%A8%B8%EC%8B%A0%EB%9F%AC%EB%8B%9D%20/%209_%EA%B2%B0%EC%A0%95%ED%8A%B8%EB%A6%AC_%EC%8B%A4%EC%8A%B5.ipynb\" target=\"_parent\"><img src=\"https://colab.research.google.com/assets/colab-badge.svg\" alt=\"Open In Colab\"/></a>"
      ]
    },
    {
      "cell_type": "code",
      "metadata": {
        "id": "vL8q-jlNpg0s"
      },
      "source": [
        "\"\"\"\n",
        "날짜 : 21/10/20\n",
        "이름 : 박시현\n",
        "내용 : 결정트리(decision tree) 실습하기\n",
        "\"\"\"\n",
        "\n",
        "import pandas as pd\n",
        "import numpy as np\n",
        "import matplotlib.pyplot as plt\n",
        "from sklearn import tree, metrics\n",
        "import pydotplus\n",
        "from sklearn.model_selection import train_test_split"
      ],
      "execution_count": 9,
      "outputs": []
    },
    {
      "cell_type": "code",
      "metadata": {
        "colab": {
          "base_uri": "https://localhost:8080/",
          "height": 419
        },
        "id": "MrTAKW6Op49c",
        "outputId": "1ea9011a-4b52-49f6-82ea-90772cb454d4"
      },
      "source": [
        "# 데이터 불러오기\n",
        "df_iris = pd.read_csv('/content/drive/MyDrive/Colab Notebooks/file/iris.csv')\n",
        "df_iris"
      ],
      "execution_count": 10,
      "outputs": [
        {
          "output_type": "execute_result",
          "data": {
            "text/html": [
              "<div>\n",
              "<style scoped>\n",
              "    .dataframe tbody tr th:only-of-type {\n",
              "        vertical-align: middle;\n",
              "    }\n",
              "\n",
              "    .dataframe tbody tr th {\n",
              "        vertical-align: top;\n",
              "    }\n",
              "\n",
              "    .dataframe thead th {\n",
              "        text-align: right;\n",
              "    }\n",
              "</style>\n",
              "<table border=\"1\" class=\"dataframe\">\n",
              "  <thead>\n",
              "    <tr style=\"text-align: right;\">\n",
              "      <th></th>\n",
              "      <th>sepal.length</th>\n",
              "      <th>sepal.width</th>\n",
              "      <th>petal.length</th>\n",
              "      <th>petal.width</th>\n",
              "      <th>variety</th>\n",
              "    </tr>\n",
              "  </thead>\n",
              "  <tbody>\n",
              "    <tr>\n",
              "      <th>0</th>\n",
              "      <td>5.1</td>\n",
              "      <td>3.5</td>\n",
              "      <td>1.4</td>\n",
              "      <td>0.2</td>\n",
              "      <td>Setosa</td>\n",
              "    </tr>\n",
              "    <tr>\n",
              "      <th>1</th>\n",
              "      <td>4.9</td>\n",
              "      <td>3.0</td>\n",
              "      <td>1.4</td>\n",
              "      <td>0.2</td>\n",
              "      <td>Setosa</td>\n",
              "    </tr>\n",
              "    <tr>\n",
              "      <th>2</th>\n",
              "      <td>4.7</td>\n",
              "      <td>3.2</td>\n",
              "      <td>1.3</td>\n",
              "      <td>0.2</td>\n",
              "      <td>Setosa</td>\n",
              "    </tr>\n",
              "    <tr>\n",
              "      <th>3</th>\n",
              "      <td>4.6</td>\n",
              "      <td>3.1</td>\n",
              "      <td>1.5</td>\n",
              "      <td>0.2</td>\n",
              "      <td>Setosa</td>\n",
              "    </tr>\n",
              "    <tr>\n",
              "      <th>4</th>\n",
              "      <td>5.0</td>\n",
              "      <td>3.6</td>\n",
              "      <td>1.4</td>\n",
              "      <td>0.2</td>\n",
              "      <td>Setosa</td>\n",
              "    </tr>\n",
              "    <tr>\n",
              "      <th>...</th>\n",
              "      <td>...</td>\n",
              "      <td>...</td>\n",
              "      <td>...</td>\n",
              "      <td>...</td>\n",
              "      <td>...</td>\n",
              "    </tr>\n",
              "    <tr>\n",
              "      <th>145</th>\n",
              "      <td>6.7</td>\n",
              "      <td>3.0</td>\n",
              "      <td>5.2</td>\n",
              "      <td>2.3</td>\n",
              "      <td>Virginica</td>\n",
              "    </tr>\n",
              "    <tr>\n",
              "      <th>146</th>\n",
              "      <td>6.3</td>\n",
              "      <td>2.5</td>\n",
              "      <td>5.0</td>\n",
              "      <td>1.9</td>\n",
              "      <td>Virginica</td>\n",
              "    </tr>\n",
              "    <tr>\n",
              "      <th>147</th>\n",
              "      <td>6.5</td>\n",
              "      <td>3.0</td>\n",
              "      <td>5.2</td>\n",
              "      <td>2.0</td>\n",
              "      <td>Virginica</td>\n",
              "    </tr>\n",
              "    <tr>\n",
              "      <th>148</th>\n",
              "      <td>6.2</td>\n",
              "      <td>3.4</td>\n",
              "      <td>5.4</td>\n",
              "      <td>2.3</td>\n",
              "      <td>Virginica</td>\n",
              "    </tr>\n",
              "    <tr>\n",
              "      <th>149</th>\n",
              "      <td>5.9</td>\n",
              "      <td>3.0</td>\n",
              "      <td>5.1</td>\n",
              "      <td>1.8</td>\n",
              "      <td>Virginica</td>\n",
              "    </tr>\n",
              "  </tbody>\n",
              "</table>\n",
              "<p>150 rows × 5 columns</p>\n",
              "</div>"
            ],
            "text/plain": [
              "     sepal.length  sepal.width  petal.length  petal.width    variety\n",
              "0             5.1          3.5           1.4          0.2     Setosa\n",
              "1             4.9          3.0           1.4          0.2     Setosa\n",
              "2             4.7          3.2           1.3          0.2     Setosa\n",
              "3             4.6          3.1           1.5          0.2     Setosa\n",
              "4             5.0          3.6           1.4          0.2     Setosa\n",
              "..            ...          ...           ...          ...        ...\n",
              "145           6.7          3.0           5.2          2.3  Virginica\n",
              "146           6.3          2.5           5.0          1.9  Virginica\n",
              "147           6.5          3.0           5.2          2.0  Virginica\n",
              "148           6.2          3.4           5.4          2.3  Virginica\n",
              "149           5.9          3.0           5.1          1.8  Virginica\n",
              "\n",
              "[150 rows x 5 columns]"
            ]
          },
          "metadata": {},
          "execution_count": 10
        }
      ]
    },
    {
      "cell_type": "code",
      "metadata": {
        "colab": {
          "base_uri": "https://localhost:8080/",
          "height": 419
        },
        "id": "svFHeoWeqQ1U",
        "outputId": "72bc7567-6690-4500-bd98-260aca84ceab"
      },
      "source": [
        "# 학습데이터\n",
        "iris_train_data = df_iris.iloc[:, 0:4]\n",
        "iris_train_label = df_iris.iloc[:, 4]\n",
        "iris_train_label\n",
        "\n",
        "train_data, test_data, train_label, test_label = train_test_split(iris_train_data, iris_train_label)\n",
        "train_data"
      ],
      "execution_count": 11,
      "outputs": [
        {
          "output_type": "execute_result",
          "data": {
            "text/html": [
              "<div>\n",
              "<style scoped>\n",
              "    .dataframe tbody tr th:only-of-type {\n",
              "        vertical-align: middle;\n",
              "    }\n",
              "\n",
              "    .dataframe tbody tr th {\n",
              "        vertical-align: top;\n",
              "    }\n",
              "\n",
              "    .dataframe thead th {\n",
              "        text-align: right;\n",
              "    }\n",
              "</style>\n",
              "<table border=\"1\" class=\"dataframe\">\n",
              "  <thead>\n",
              "    <tr style=\"text-align: right;\">\n",
              "      <th></th>\n",
              "      <th>sepal.length</th>\n",
              "      <th>sepal.width</th>\n",
              "      <th>petal.length</th>\n",
              "      <th>petal.width</th>\n",
              "    </tr>\n",
              "  </thead>\n",
              "  <tbody>\n",
              "    <tr>\n",
              "      <th>75</th>\n",
              "      <td>6.6</td>\n",
              "      <td>3.0</td>\n",
              "      <td>4.4</td>\n",
              "      <td>1.4</td>\n",
              "    </tr>\n",
              "    <tr>\n",
              "      <th>83</th>\n",
              "      <td>6.0</td>\n",
              "      <td>2.7</td>\n",
              "      <td>5.1</td>\n",
              "      <td>1.6</td>\n",
              "    </tr>\n",
              "    <tr>\n",
              "      <th>48</th>\n",
              "      <td>5.3</td>\n",
              "      <td>3.7</td>\n",
              "      <td>1.5</td>\n",
              "      <td>0.2</td>\n",
              "    </tr>\n",
              "    <tr>\n",
              "      <th>27</th>\n",
              "      <td>5.2</td>\n",
              "      <td>3.5</td>\n",
              "      <td>1.5</td>\n",
              "      <td>0.2</td>\n",
              "    </tr>\n",
              "    <tr>\n",
              "      <th>45</th>\n",
              "      <td>4.8</td>\n",
              "      <td>3.0</td>\n",
              "      <td>1.4</td>\n",
              "      <td>0.3</td>\n",
              "    </tr>\n",
              "    <tr>\n",
              "      <th>...</th>\n",
              "      <td>...</td>\n",
              "      <td>...</td>\n",
              "      <td>...</td>\n",
              "      <td>...</td>\n",
              "    </tr>\n",
              "    <tr>\n",
              "      <th>120</th>\n",
              "      <td>6.9</td>\n",
              "      <td>3.2</td>\n",
              "      <td>5.7</td>\n",
              "      <td>2.3</td>\n",
              "    </tr>\n",
              "    <tr>\n",
              "      <th>112</th>\n",
              "      <td>6.8</td>\n",
              "      <td>3.0</td>\n",
              "      <td>5.5</td>\n",
              "      <td>2.1</td>\n",
              "    </tr>\n",
              "    <tr>\n",
              "      <th>137</th>\n",
              "      <td>6.4</td>\n",
              "      <td>3.1</td>\n",
              "      <td>5.5</td>\n",
              "      <td>1.8</td>\n",
              "    </tr>\n",
              "    <tr>\n",
              "      <th>93</th>\n",
              "      <td>5.0</td>\n",
              "      <td>2.3</td>\n",
              "      <td>3.3</td>\n",
              "      <td>1.0</td>\n",
              "    </tr>\n",
              "    <tr>\n",
              "      <th>111</th>\n",
              "      <td>6.4</td>\n",
              "      <td>2.7</td>\n",
              "      <td>5.3</td>\n",
              "      <td>1.9</td>\n",
              "    </tr>\n",
              "  </tbody>\n",
              "</table>\n",
              "<p>112 rows × 4 columns</p>\n",
              "</div>"
            ],
            "text/plain": [
              "     sepal.length  sepal.width  petal.length  petal.width\n",
              "75            6.6          3.0           4.4          1.4\n",
              "83            6.0          2.7           5.1          1.6\n",
              "48            5.3          3.7           1.5          0.2\n",
              "27            5.2          3.5           1.5          0.2\n",
              "45            4.8          3.0           1.4          0.3\n",
              "..            ...          ...           ...          ...\n",
              "120           6.9          3.2           5.7          2.3\n",
              "112           6.8          3.0           5.5          2.1\n",
              "137           6.4          3.1           5.5          1.8\n",
              "93            5.0          2.3           3.3          1.0\n",
              "111           6.4          2.7           5.3          1.9\n",
              "\n",
              "[112 rows x 4 columns]"
            ]
          },
          "metadata": {},
          "execution_count": 11
        }
      ]
    },
    {
      "cell_type": "code",
      "metadata": {
        "colab": {
          "base_uri": "https://localhost:8080/"
        },
        "id": "w4uH4EbfqcU8",
        "outputId": "3750c5ff-307f-4dc0-9e03-419a9e89c920"
      },
      "source": [
        "# 학습하기\n",
        "model = tree.DecisionTreeClassifier()\n",
        "model.fit(train_data, train_label)"
      ],
      "execution_count": 13,
      "outputs": [
        {
          "output_type": "execute_result",
          "data": {
            "text/plain": [
              "DecisionTreeClassifier(ccp_alpha=0.0, class_weight=None, criterion='gini',\n",
              "                       max_depth=None, max_features=None, max_leaf_nodes=None,\n",
              "                       min_impurity_decrease=0.0, min_impurity_split=None,\n",
              "                       min_samples_leaf=1, min_samples_split=2,\n",
              "                       min_weight_fraction_leaf=0.0, presort='deprecated',\n",
              "                       random_state=None, splitter='best')"
            ]
          },
          "metadata": {},
          "execution_count": 13
        }
      ]
    },
    {
      "cell_type": "code",
      "metadata": {
        "id": "G9mI_TXTq_W7"
      },
      "source": [
        "# 테스트하기\n",
        "result = model.predict(test_data)"
      ],
      "execution_count": 14,
      "outputs": []
    },
    {
      "cell_type": "code",
      "metadata": {
        "colab": {
          "base_uri": "https://localhost:8080/"
        },
        "id": "SA3LdVpArP7b",
        "outputId": "f4ccdffd-7225-43cb-bdd6-e8a0ca834894"
      },
      "source": [
        "# 성능평가하기\n",
        "score =  metrics.accuracy_score(result, test_label)\n",
        "score"
      ],
      "execution_count": 15,
      "outputs": [
        {
          "output_type": "execute_result",
          "data": {
            "text/plain": [
              "0.9736842105263158"
            ]
          },
          "metadata": {},
          "execution_count": 15
        }
      ]
    },
    {
      "cell_type": "code",
      "metadata": {
        "colab": {
          "base_uri": "https://localhost:8080/"
        },
        "id": "sdTZ-WTSrWFs",
        "outputId": "2874fef8-9e95-467f-dbdb-ef901f2a1f03"
      },
      "source": [
        "# 모델 설명 확인\n",
        "model_text = tree.export_text(model)\n",
        "print(model_text)"
      ],
      "execution_count": 16,
      "outputs": [
        {
          "output_type": "stream",
          "name": "stdout",
          "text": [
            "|--- feature_2 <= 2.45\n",
            "|   |--- class: Setosa\n",
            "|--- feature_2 >  2.45\n",
            "|   |--- feature_2 <= 4.75\n",
            "|   |   |--- feature_3 <= 1.65\n",
            "|   |   |   |--- class: Versicolor\n",
            "|   |   |--- feature_3 >  1.65\n",
            "|   |   |   |--- class: Virginica\n",
            "|   |--- feature_2 >  4.75\n",
            "|   |   |--- feature_3 <= 1.75\n",
            "|   |   |   |--- feature_1 <= 2.65\n",
            "|   |   |   |   |--- class: Virginica\n",
            "|   |   |   |--- feature_1 >  2.65\n",
            "|   |   |   |   |--- feature_2 <= 5.05\n",
            "|   |   |   |   |   |--- class: Versicolor\n",
            "|   |   |   |   |--- feature_2 >  5.05\n",
            "|   |   |   |   |   |--- feature_0 <= 6.15\n",
            "|   |   |   |   |   |   |--- class: Versicolor\n",
            "|   |   |   |   |   |--- feature_0 >  6.15\n",
            "|   |   |   |   |   |   |--- class: Virginica\n",
            "|   |   |--- feature_3 >  1.75\n",
            "|   |   |   |--- feature_2 <= 4.85\n",
            "|   |   |   |   |--- feature_0 <= 5.95\n",
            "|   |   |   |   |   |--- class: Versicolor\n",
            "|   |   |   |   |--- feature_0 >  5.95\n",
            "|   |   |   |   |   |--- class: Virginica\n",
            "|   |   |   |--- feature_2 >  4.85\n",
            "|   |   |   |   |--- class: Virginica\n",
            "\n"
          ]
        }
      ]
    },
    {
      "cell_type": "code",
      "metadata": {
        "colab": {
          "base_uri": "https://localhost:8080/",
          "height": 699
        },
        "id": "m_zNKs8Yrmhr",
        "outputId": "5a0e3d5e-ca12-41fc-c90f-c3c1f8fe704e"
      },
      "source": [
        "# 모델 시각화\n",
        "fig = plt.figure(figsize=(6, 6))\n",
        "tree.plot_tree(model, \n",
        "               feature_names=['sepal_length','sepal_width','petal_length','petal_width'],\n",
        "               class_names=['Setosa','Vircicolor','Virginica'],\n",
        "               filled=True)\n"
      ],
      "execution_count": 21,
      "outputs": [
        {
          "output_type": "execute_result",
          "data": {
            "text/plain": [
              "[Text(103.01538461538462, 302.86285714285714, 'petal_length <= 2.45\\ngini = 0.665\\nsamples = 112\\nvalue = [40, 34, 38]\\nclass = Setosa'),\n",
              " Text(77.26153846153846, 256.2685714285715, 'gini = 0.0\\nsamples = 40\\nvalue = [40, 0, 0]\\nclass = Setosa'),\n",
              " Text(128.76923076923077, 256.2685714285715, 'petal_length <= 4.75\\ngini = 0.498\\nsamples = 72\\nvalue = [0, 34, 38]\\nclass = Virginica'),\n",
              " Text(51.50769230769231, 209.67428571428573, 'petal_width <= 1.65\\ngini = 0.062\\nsamples = 31\\nvalue = [0, 30, 1]\\nclass = Vircicolor'),\n",
              " Text(25.753846153846155, 163.08, 'gini = 0.0\\nsamples = 30\\nvalue = [0, 30, 0]\\nclass = Vircicolor'),\n",
              " Text(77.26153846153846, 163.08, 'gini = 0.0\\nsamples = 1\\nvalue = [0, 0, 1]\\nclass = Virginica'),\n",
              " Text(206.03076923076924, 209.67428571428573, 'petal_width <= 1.75\\ngini = 0.176\\nsamples = 41\\nvalue = [0, 4, 37]\\nclass = Virginica'),\n",
              " Text(128.76923076923077, 163.08, 'sepal_width <= 2.65\\ngini = 0.49\\nsamples = 7\\nvalue = [0, 3, 4]\\nclass = Virginica'),\n",
              " Text(103.01538461538462, 116.4857142857143, 'gini = 0.0\\nsamples = 2\\nvalue = [0, 0, 2]\\nclass = Virginica'),\n",
              " Text(154.52307692307693, 116.4857142857143, 'petal_length <= 5.05\\ngini = 0.48\\nsamples = 5\\nvalue = [0, 3, 2]\\nclass = Vircicolor'),\n",
              " Text(128.76923076923077, 69.89142857142855, 'gini = 0.0\\nsamples = 2\\nvalue = [0, 2, 0]\\nclass = Vircicolor'),\n",
              " Text(180.27692307692308, 69.89142857142855, 'sepal_length <= 6.15\\ngini = 0.444\\nsamples = 3\\nvalue = [0, 1, 2]\\nclass = Virginica'),\n",
              " Text(154.52307692307693, 23.297142857142887, 'gini = 0.0\\nsamples = 1\\nvalue = [0, 1, 0]\\nclass = Vircicolor'),\n",
              " Text(206.03076923076924, 23.297142857142887, 'gini = 0.0\\nsamples = 2\\nvalue = [0, 0, 2]\\nclass = Virginica'),\n",
              " Text(283.2923076923077, 163.08, 'petal_length <= 4.85\\ngini = 0.057\\nsamples = 34\\nvalue = [0, 1, 33]\\nclass = Virginica'),\n",
              " Text(257.53846153846155, 116.4857142857143, 'sepal_length <= 5.95\\ngini = 0.5\\nsamples = 2\\nvalue = [0, 1, 1]\\nclass = Vircicolor'),\n",
              " Text(231.7846153846154, 69.89142857142855, 'gini = 0.0\\nsamples = 1\\nvalue = [0, 1, 0]\\nclass = Vircicolor'),\n",
              " Text(283.2923076923077, 69.89142857142855, 'gini = 0.0\\nsamples = 1\\nvalue = [0, 0, 1]\\nclass = Virginica'),\n",
              " Text(309.04615384615386, 116.4857142857143, 'gini = 0.0\\nsamples = 32\\nvalue = [0, 0, 32]\\nclass = Virginica')]"
            ]
          },
          "metadata": {},
          "execution_count": 21
        },
        {
          "output_type": "display_data",
          "data": {
            "image/png": "[encoded data removed]",
            "text/plain": [
              "<Figure size 432x432 with 1 Axes>"
            ]
          },
          "metadata": {
            "needs_background": "light"
          }
        }
      ]
    },
    {
      "cell_type": "code",
      "metadata": {
        "id": "z9Ash8lMsie8"
      },
      "source": [
        ""
      ],
      "execution_count": null,
      "outputs": []
    }
  ]
}