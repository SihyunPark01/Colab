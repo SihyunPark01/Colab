{
  "nbformat": 4,
  "nbformat_minor": 0,
  "metadata": {
    "colab": {
      "name": "2_퍼셉트론 실습.ipynb",
      "provenance": [],
      "collapsed_sections": [],
      "authorship_tag": "ABX9TyMQODUGGb1qyL+zadOfxy3t",
      "include_colab_link": true
    },
    "kernelspec": {
      "name": "python3",
      "display_name": "Python 3"
    },
    "language_info": {
      "name": "python"
    }
  },
  "cells": [
    {
      "cell_type": "markdown",
      "metadata": {
        "id": "view-in-github",
        "colab_type": "text"
      },
      "source": [
        "<a href=\"https://colab.research.google.com/github/SihyunPark01/Colab/blob/main/Ch03.%EB%94%A5%EB%9F%AC%EB%8B%9D%20/%202_%ED%8D%BC%EC%85%89%ED%8A%B8%EB%A1%A0_%EC%8B%A4%EC%8A%B5.ipynb\" target=\"_parent\"><img src=\"https://colab.research.google.com/assets/colab-badge.svg\" alt=\"Open In Colab\"/></a>"
      ]
    },
    {
      "cell_type": "code",
      "metadata": {
        "id": "FVyC1KkoUnw7"
      },
      "source": [
        "\"\"\"\n",
        "날짜 : 21/10/26 \n",
        "이름 : 박시현\n",
        "내용 : 파이썬 퍼셉트론 실습하기\n",
        "\"\"\"\n",
        "\n",
        "import numpy as np"
      ],
      "execution_count": 1,
      "outputs": []
    },
    {
      "cell_type": "code",
      "metadata": {
        "id": "2f0IGdQCU4Ig"
      },
      "source": [
        "# AND 연산 퍼셉트론 함수\n",
        "def AND(x1, x2):\n",
        "  x = np.array([x1, x2])\n",
        "  w = np.array([0.5, 0.5])\n",
        "  b = -0.7\n",
        "\n",
        "  y = np.sum(x * w) + b\n",
        "\n",
        "  if y <= 0:\n",
        "    return 0\n",
        "  else:\n",
        "    return 1\n",
        "\n",
        "# NAND 연산 퍼셉트론 함수\n",
        "def NAND(x1, x2):\n",
        "  x = np.array([x1, x2])\n",
        "  w = np.array([-0.5, -0.5])\n",
        "  b = 0.7\n",
        "\n",
        "  y = np.sum(x * w) + b\n",
        "\n",
        "  if y <= 0:\n",
        "    return 0\n",
        "  else:\n",
        "    return 1\n",
        "    \n",
        "# OR 연산 퍼셉트론 함수\n",
        "def OR(x1, x2):\n",
        "  x = np.array([x1, x2])\n",
        "  w = np.array([2, 2])\n",
        "  b = -1\n",
        "\n",
        "  y = np.sum(x * w) + b\n",
        "\n",
        "  if y <= 0:\n",
        "    return 0\n",
        "  else:\n",
        "    return 1"
      ],
      "execution_count": 6,
      "outputs": []
    },
    {
      "cell_type": "code",
      "metadata": {
        "colab": {
          "base_uri": "https://localhost:8080/"
        },
        "id": "ceUN0IyaW0LB",
        "outputId": "453bdfd3-e7de-42f8-b72f-394065e37fdb"
      },
      "source": [
        "# 테스트하기\n",
        "print('AND')\n",
        "print('0, 0 :', AND(0,0))\n",
        "print('0, 1 :', AND(0,1))\n",
        "print('1, 0 :', AND(1,0))\n",
        "print('1, 1 :', AND(1,1))\n",
        "\n",
        "print('NAND')\n",
        "print('0, 0 :', NAND(0,0))\n",
        "print('0, 1 :', NAND(0,1))\n",
        "print('1, 0 :', NAND(1,0))\n",
        "print('1, 1 :', NAND(1,1))\n",
        "\n",
        "print('OR')\n",
        "print('0, 0 :', OR(0,0))\n",
        "print('0, 1 :', OR(0,1))\n",
        "print('1, 0 :', OR(1,0))\n",
        "print('1, 1 :', OR(1,1))"
      ],
      "execution_count": 7,
      "outputs": [
        {
          "output_type": "stream",
          "name": "stdout",
          "text": [
            "AND\n",
            "0, 0 : 0\n",
            "0, 1 : 0\n",
            "1, 0 : 0\n",
            "1, 1 : 1\n",
            "NAND\n",
            "0, 0 : 1\n",
            "0, 1 : 1\n",
            "1, 0 : 1\n",
            "1, 1 : 0\n",
            "OR\n",
            "0, 0 : 0\n",
            "0, 1 : 1\n",
            "1, 0 : 1\n",
            "1, 1 : 1\n"
          ]
        }
      ]
    },
    {
      "cell_type": "code",
      "metadata": {
        "id": "y-HAys2KXU7_"
      },
      "source": [
        "# XOR 퍼셉트론 함수\n",
        "def XOR(x1, x2):\n",
        "  z1 = NAND(x1, x2)\n",
        "  z2 = OR(x1, x2)\n",
        "  y = AND(z1, z2)\n",
        "  return y"
      ],
      "execution_count": 8,
      "outputs": []
    },
    {
      "cell_type": "code",
      "metadata": {
        "colab": {
          "base_uri": "https://localhost:8080/"
        },
        "id": "W83CjsBoYAaR",
        "outputId": "9a491779-6d74-4907-afea-6e19899ee136"
      },
      "source": [
        "# XOR 결과 확인\n",
        "print('XOR')\n",
        "print('0, 0 :', XOR(0,0))\n",
        "print('0, 1 :', XOR(0,1))\n",
        "print('1, 0 :', XOR(1,0))\n",
        "print('1, 1 :', XOR(1,1))"
      ],
      "execution_count": 9,
      "outputs": [
        {
          "output_type": "stream",
          "name": "stdout",
          "text": [
            "XOR\n",
            "0, 0 : 0\n",
            "0, 1 : 1\n",
            "1, 0 : 1\n",
            "1, 1 : 0\n"
          ]
        }
      ]
    },
    {
      "cell_type": "code",
      "metadata": {
        "id": "e-g3zs9LYLqQ"
      },
      "source": [
        ""
      ],
      "execution_count": null,
      "outputs": []
    }
  ]
}